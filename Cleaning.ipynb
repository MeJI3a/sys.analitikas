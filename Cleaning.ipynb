{
 "cells": [
  {
   "cell_type": "code",
   "execution_count": 1,
   "id": "1b98c18b-9904-43bf-9e4b-a6c0834af583",
   "metadata": {},
   "outputs": [
    {
     "data": {
      "text/html": [
       "<div>\n",
       "<style scoped>\n",
       "    .dataframe tbody tr th:only-of-type {\n",
       "        vertical-align: middle;\n",
       "    }\n",
       "\n",
       "    .dataframe tbody tr th {\n",
       "        vertical-align: top;\n",
       "    }\n",
       "\n",
       "    .dataframe thead th {\n",
       "        text-align: right;\n",
       "    }\n",
       "</style>\n",
       "<table border=\"1\" class=\"dataframe\">\n",
       "  <thead>\n",
       "    <tr style=\"text-align: right;\">\n",
       "      <th></th>\n",
       "      <th>Diena</th>\n",
       "      <th>Savaitės diena</th>\n",
       "      <th>Statistinis tiekėjas</th>\n",
       "      <th>Užduočių skaičius, vnt.</th>\n",
       "      <th>Išvežtų palečių skaičius, vnt.</th>\n",
       "      <th>Kiek pakuočių išrūšiuota, vnt.</th>\n",
       "    </tr>\n",
       "  </thead>\n",
       "  <tbody>\n",
       "    <tr>\n",
       "      <th>0</th>\n",
       "      <td>2024 sausis 2</td>\n",
       "      <td>ketvirtadienis</td>\n",
       "      <td>Sandėlis A123</td>\n",
       "      <td>6461.68</td>\n",
       "      <td>142.2</td>\n",
       "      <td>2331</td>\n",
       "    </tr>\n",
       "    <tr>\n",
       "      <th>1</th>\n",
       "      <td>2024 sausis 2</td>\n",
       "      <td>ketvirtadienis</td>\n",
       "      <td>Sandėlis B456</td>\n",
       "      <td>13629.00</td>\n",
       "      <td>432.7</td>\n",
       "      <td>7138</td>\n",
       "    </tr>\n",
       "    <tr>\n",
       "      <th>2</th>\n",
       "      <td>2024 sausis 2</td>\n",
       "      <td>ketvirtadienis</td>\n",
       "      <td>Sandėlis C789</td>\n",
       "      <td>309.16</td>\n",
       "      <td>2.5</td>\n",
       "      <td>150</td>\n",
       "    </tr>\n",
       "    <tr>\n",
       "      <th>3</th>\n",
       "      <td>2024 sausis 2</td>\n",
       "      <td>ketvirtadienis</td>\n",
       "      <td>Sandėlis D741</td>\n",
       "      <td>1720.44</td>\n",
       "      <td>16.3</td>\n",
       "      <td>497</td>\n",
       "    </tr>\n",
       "    <tr>\n",
       "      <th>4</th>\n",
       "      <td>2024 sausis 2</td>\n",
       "      <td>ketvirtadienis</td>\n",
       "      <td>Sandėlis E852</td>\n",
       "      <td>224.20</td>\n",
       "      <td>17.6</td>\n",
       "      <td>113</td>\n",
       "    </tr>\n",
       "  </tbody>\n",
       "</table>\n",
       "</div>"
      ],
      "text/plain": [
       "           Diena  Savaitės diena Statistinis tiekėjas  \\\n",
       "0  2024 sausis 2  ketvirtadienis        Sandėlis A123   \n",
       "1  2024 sausis 2  ketvirtadienis        Sandėlis B456   \n",
       "2  2024 sausis 2  ketvirtadienis        Sandėlis C789   \n",
       "3  2024 sausis 2  ketvirtadienis        Sandėlis D741   \n",
       "4  2024 sausis 2  ketvirtadienis        Sandėlis E852   \n",
       "\n",
       "   Užduočių skaičius, vnt.  Išvežtų palečių skaičius, vnt.  \\\n",
       "0                  6461.68                           142.2   \n",
       "1                 13629.00                           432.7   \n",
       "2                   309.16                             2.5   \n",
       "3                  1720.44                            16.3   \n",
       "4                   224.20                            17.6   \n",
       "\n",
       "   Kiek pakuočių išrūšiuota, vnt.  \n",
       "0                            2331  \n",
       "1                            7138  \n",
       "2                             150  \n",
       "3                             497  \n",
       "4                             113  "
      ]
     },
     "execution_count": 1,
     "metadata": {},
     "output_type": "execute_result"
    }
   ],
   "source": [
    "import pandas as pd\n",
    "\n",
    "file_path = \"Ex.3.xlsx\"  \n",
    "df = pd.read_excel(file_path)  \n",
    "df.head()"
   ]
  },
  {
   "cell_type": "code",
   "execution_count": 2,
   "id": "5f9a83af-a9f8-43bc-a729-629787c84820",
   "metadata": {},
   "outputs": [
    {
     "data": {
      "text/plain": [
       "Diena                              object\n",
       "Savaitės diena                     object\n",
       "Statistinis tiekėjas               object\n",
       "Užduočių skaičius, vnt.           float64\n",
       "Išvežtų palečių skaičius, vnt.    float64\n",
       "Kiek pakuočių išrūšiuota, vnt.      int64\n",
       "dtype: object"
      ]
     },
     "execution_count": 2,
     "metadata": {},
     "output_type": "execute_result"
    }
   ],
   "source": [
    "df.dtypes"
   ]
  },
  {
   "cell_type": "code",
   "execution_count": 3,
   "id": "91fead11-3632-4429-80bd-150ec9eaa034",
   "metadata": {},
   "outputs": [],
   "source": [
    "months_lt_to_en = {\n",
    "    \"sausis\": \"January\", \"vasaris\": \"February\", \"kovas\": \"March\",\n",
    "    \"balandis\": \"April\", \"gegužė\": \"May\", \"birželis\": \"June\",\n",
    "    \"liepa\": \"July\", \"rugpjūtis\": \"August\", \"rugsėjis\": \"September\",\n",
    "    \"spalis\": \"October\", \"lapkritis\": \"November\", \"gruodis\": \"December\"\n",
    "}\n",
    "\n",
    "for lt, en in months_lt_to_en.items():\n",
    "    df[\"Diena\"] = df[\"Diena\"].str.replace(lt, en, regex=True)\n",
    "\n",
    "df[\"Diena\"] = pd.to_datetime(df[\"Diena\"], format=\"%Y %B %d\", errors=\"coerce\", dayfirst=True)"
   ]
  },
  {
   "cell_type": "code",
   "execution_count": 4,
   "id": "bc1a31e8-9754-462b-afec-e1f9817653ca",
   "metadata": {},
   "outputs": [
    {
     "data": {
      "text/html": [
       "<div>\n",
       "<style scoped>\n",
       "    .dataframe tbody tr th:only-of-type {\n",
       "        vertical-align: middle;\n",
       "    }\n",
       "\n",
       "    .dataframe tbody tr th {\n",
       "        vertical-align: top;\n",
       "    }\n",
       "\n",
       "    .dataframe thead th {\n",
       "        text-align: right;\n",
       "    }\n",
       "</style>\n",
       "<table border=\"1\" class=\"dataframe\">\n",
       "  <thead>\n",
       "    <tr style=\"text-align: right;\">\n",
       "      <th></th>\n",
       "      <th>Diena</th>\n",
       "      <th>Savaitės diena</th>\n",
       "      <th>Statistinis tiekėjas</th>\n",
       "      <th>Užduočių skaičius, vnt.</th>\n",
       "      <th>Išvežtų palečių skaičius, vnt.</th>\n",
       "      <th>Kiek pakuočių išrūšiuota, vnt.</th>\n",
       "    </tr>\n",
       "  </thead>\n",
       "  <tbody>\n",
       "    <tr>\n",
       "      <th>0</th>\n",
       "      <td>2024-01-02</td>\n",
       "      <td>ketvirtadienis</td>\n",
       "      <td>Sandėlis A123</td>\n",
       "      <td>6461.68</td>\n",
       "      <td>142.2</td>\n",
       "      <td>2331</td>\n",
       "    </tr>\n",
       "    <tr>\n",
       "      <th>1</th>\n",
       "      <td>2024-01-02</td>\n",
       "      <td>ketvirtadienis</td>\n",
       "      <td>Sandėlis B456</td>\n",
       "      <td>13629.00</td>\n",
       "      <td>432.7</td>\n",
       "      <td>7138</td>\n",
       "    </tr>\n",
       "    <tr>\n",
       "      <th>2</th>\n",
       "      <td>2024-01-02</td>\n",
       "      <td>ketvirtadienis</td>\n",
       "      <td>Sandėlis C789</td>\n",
       "      <td>309.16</td>\n",
       "      <td>2.5</td>\n",
       "      <td>150</td>\n",
       "    </tr>\n",
       "    <tr>\n",
       "      <th>3</th>\n",
       "      <td>2024-01-02</td>\n",
       "      <td>ketvirtadienis</td>\n",
       "      <td>Sandėlis D741</td>\n",
       "      <td>1720.44</td>\n",
       "      <td>16.3</td>\n",
       "      <td>497</td>\n",
       "    </tr>\n",
       "    <tr>\n",
       "      <th>4</th>\n",
       "      <td>2024-01-02</td>\n",
       "      <td>ketvirtadienis</td>\n",
       "      <td>Sandėlis E852</td>\n",
       "      <td>224.20</td>\n",
       "      <td>17.6</td>\n",
       "      <td>113</td>\n",
       "    </tr>\n",
       "  </tbody>\n",
       "</table>\n",
       "</div>"
      ],
      "text/plain": [
       "       Diena  Savaitės diena Statistinis tiekėjas  Užduočių skaičius, vnt.  \\\n",
       "0 2024-01-02  ketvirtadienis        Sandėlis A123                  6461.68   \n",
       "1 2024-01-02  ketvirtadienis        Sandėlis B456                 13629.00   \n",
       "2 2024-01-02  ketvirtadienis        Sandėlis C789                   309.16   \n",
       "3 2024-01-02  ketvirtadienis        Sandėlis D741                  1720.44   \n",
       "4 2024-01-02  ketvirtadienis        Sandėlis E852                   224.20   \n",
       "\n",
       "   Išvežtų palečių skaičius, vnt.  Kiek pakuočių išrūšiuota, vnt.  \n",
       "0                           142.2                            2331  \n",
       "1                           432.7                            7138  \n",
       "2                             2.5                             150  \n",
       "3                            16.3                             497  \n",
       "4                            17.6                             113  "
      ]
     },
     "execution_count": 4,
     "metadata": {},
     "output_type": "execute_result"
    }
   ],
   "source": [
    "df.head()"
   ]
  },
  {
   "cell_type": "code",
   "execution_count": 5,
   "id": "1f1665d8-784c-44de-b397-f6b23881be44",
   "metadata": {},
   "outputs": [
    {
     "name": "stdout",
     "output_type": "stream",
     "text": [
      "Series([], dtype: int64)\n"
     ]
    }
   ],
   "source": [
    "missing_values = df.isnull().sum()\n",
    "print(missing_values[missing_values > 0])"
   ]
  },
  {
   "cell_type": "code",
   "execution_count": 6,
   "id": "0016730f-73e1-43f9-9fef-f0fc13b30ae3",
   "metadata": {},
   "outputs": [
    {
     "name": "stdout",
     "output_type": "stream",
     "text": [
      "0\n"
     ]
    }
   ],
   "source": [
    "duplicate_rows = df.duplicated().sum()\n",
    "print(duplicate_rows)\n",
    "\n",
    "if duplicate_rows > 0:\n",
    "    df = df.drop_duplicates()\n",
    "    print(len(df))"
   ]
  },
  {
   "cell_type": "code",
   "execution_count": 7,
   "id": "79326902-f9c5-4bf0-a07d-469c0a3732b6",
   "metadata": {},
   "outputs": [],
   "source": [
    "df.to_excel(\"Ex.3_cleaned.xlsx\", index=False)"
   ]
  },
  {
   "cell_type": "code",
   "execution_count": 8,
   "id": "3604db04-81ea-4c10-a066-2c770601db3d",
   "metadata": {},
   "outputs": [],
   "source": [
    "df.to_csv(\"C:/ProgramData/MySQL/MySQL Server 8.0/Uploads/Ex.3_cleaned.csv\", index=False, encoding=\"utf-8\")"
   ]
  },
  {
   "cell_type": "code",
   "execution_count": null,
   "id": "954b6aac-252c-4365-86b6-8ac512a87f42",
   "metadata": {},
   "outputs": [],
   "source": []
  }
 ],
 "metadata": {
  "kernelspec": {
   "display_name": "Python 3 (ipykernel)",
   "language": "python",
   "name": "python3"
  },
  "language_info": {
   "codemirror_mode": {
    "name": "ipython",
    "version": 3
   },
   "file_extension": ".py",
   "mimetype": "text/x-python",
   "name": "python",
   "nbconvert_exporter": "python",
   "pygments_lexer": "ipython3",
   "version": "3.12.5"
  }
 },
 "nbformat": 4,
 "nbformat_minor": 5
}
